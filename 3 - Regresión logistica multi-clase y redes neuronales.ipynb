{
 "cells": [
  {
   "cell_type": "markdown",
   "metadata": {},
   "source": [
    "En esta práctica resolveremos la problemática de reconocimiento de carácteres utilizando el dataset MNIST con dos modelizaciones diferentes, regresión logística multiclase y redes neuronales pre-entrenadas."
   ]
  },
  {
   "cell_type": "markdown",
   "metadata": {},
   "source": [
    "# Regresión logística multi-clase"
   ]
  },
  {
   "cell_type": "markdown",
   "metadata": {},
   "source": [
    "## Visualización de los datos"
   ]
  },
  {
   "cell_type": "code",
   "execution_count": 1,
   "metadata": {},
   "outputs": [],
   "source": [
    "import numpy as np"
   ]
  },
  {
   "cell_type": "code",
   "execution_count": 2,
   "metadata": {},
   "outputs": [],
   "source": [
    "from  scipy.io import loadmat"
   ]
  },
  {
   "cell_type": "code",
   "execution_count": 3,
   "metadata": {},
   "outputs": [
    {
     "name": "stdout",
     "output_type": "stream",
     "text": [
      "(5000, 400) (5000, 1)\n"
     ]
    }
   ],
   "source": [
    "data = loadmat('datasets/ex3data1.mat')\n",
    "\n",
    "y = data['y']\n",
    "X = data['X']\n",
    "print(X.shape, y.shape)"
   ]
  },
  {
   "cell_type": "code",
   "execution_count": 4,
   "metadata": {},
   "outputs": [],
   "source": [
    "import matplotlib.pyplot as plt"
   ]
  },
  {
   "cell_type": "code",
   "execution_count": 5,
   "metadata": {},
   "outputs": [
    {
     "name": "stdout",
     "output_type": "stream",
     "text": [
      "[10  2  1  6  9  3  4  4  4  9]\n"
     ]
    },
    {
     "data": {
      "image/png": "[encoded data removed]",
      "text/plain": [
       "<Figure size 432x288 with 1 Axes>"
      ]
     },
     "metadata": {},
     "output_type": "display_data"
    }
   ],
   "source": [
    "sample = np.random.choice(X.shape[0], 10)\n",
    "plt.imshow(X[sample, :].reshape(-1, 20).T)\n",
    "plt.axis('off')\n",
    "print(np.ravel(y[sample]))"
   ]
  },
  {
   "cell_type": "code",
   "execution_count": 6,
   "metadata": {},
   "outputs": [
    {
     "name": "stdout",
     "output_type": "stream",
     "text": [
      "(5000, 401) [1. 1. 1. ... 1. 1. 1.]\n"
     ]
    }
   ],
   "source": [
    "X = np.c_[np.ones(len(X)), X]\n",
    "print(X.shape, X[:,0])"
   ]
  },
  {
   "cell_type": "markdown",
   "metadata": {},
   "source": [
    "## Vectorización de la regresión logística"
   ]
  },
  {
   "cell_type": "markdown",
   "metadata": {},
   "source": [
    "La implementación de la función sigmoide sigue la siguiente expresión: $$g(z)= \\frac{1}{1 + e^{-z}}$$ \n",
    "\n",
    "siendo   "
   ]
  },
  {
   "cell_type": "code",
   "execution_count": 7,
   "metadata": {},
   "outputs": [],
   "source": [
    "def sigmoid_function(z):\n",
    "    return 1/(1 + np.e**(-z))"
   ]
  },
  {
   "cell_type": "markdown",
   "metadata": {},
   "source": [
    "### Vectorización de la función de coste"
   ]
  },
  {
   "cell_type": "markdown",
   "metadata": {},
   "source": [
    "_Función coste_$$J(\\theta) = \\frac{1}{m}((log(g(X\\theta))^{T}(-y) - (log(1 - g(X\\theta))^{T}(1-y))$$"
   ]
  },
  {
   "cell_type": "code",
   "execution_count": 8,
   "metadata": {},
   "outputs": [],
   "source": [
    "def cost_function(th, X, y, fun):\n",
    "    fun_evaluated_xth = fun(np.dot(X, th))\n",
    "    cost = (1/len(X))*(np.log(fun_evaluated_xth).T.dot(-y) \n",
    "                       - np.log(1-fun_evaluated_xth).T.dot(1-y))\n",
    "    return cost"
   ]
  },
  {
   "cell_type": "markdown",
   "metadata": {},
   "source": [
    "### Vectorización del gradiente"
   ]
  },
  {
   "cell_type": "markdown",
   "metadata": {},
   "source": [
    "_Gradiente_$$ \\frac{\\delta J(\\theta)}{\\delta\\theta_{j}} = \\frac{1}{m}X^{T}(g(X\\theta)-y) $$"
   ]
  },
  {
   "cell_type": "code",
   "execution_count": 9,
   "metadata": {},
   "outputs": [],
   "source": [
    "def cost_gradient(th, fun, x, y, m):\n",
    "    cg = (1/m)*x.T.dot(fun(np.dot(x, th)) - y)\n",
    "    return cg"
   ]
  },
  {
   "cell_type": "markdown",
   "metadata": {},
   "source": [
    "### Cálculo de la versión regularizada\n",
    "\n",
    "_Función coste_\n",
    "$$J(\\theta) = \\frac{1}{m}((log(g(X\\theta))^{T}(-y) - (log(1 - g(X\\theta))^{T}(1-y)) + \\frac{\\lambda}{2m}\\sum_{j=1}^{n}{\\theta^{2}_{j}}$$\n",
    "\n",
    "_Gradiente_\n",
    "$$ \\frac{\\delta J(\\theta)}{\\delta\\theta_{j}} = \\frac{1}{m}X^{T}(g(X\\theta)-y) + \\frac{\\lambda}{m}\\theta_{j}$$"
   ]
  },
  {
   "cell_type": "code",
   "execution_count": 29,
   "metadata": {},
   "outputs": [],
   "source": [
    "def cost_function_opt(th, x, y, reg):\n",
    "    def fun(z):\n",
    "        return 1/(1 + np.e**(-z))\n",
    "\n",
    "    h = fun(np.dot(x, th))\n",
    "    \n",
    "    J = np.sum( -y * np.log(h) - (1 - y) * np.log(1 - h) ) / len(X)\n",
    "    J += (reg / (2 * len(X))) * (np.sum(th ** 2))\n",
    "    \n",
    "    return J\n",
    "                                 \n",
    "\n",
    "def cost_gradient_opt(th, x, y, reg):\n",
    "    def fun(z):\n",
    "        return 1/(1 + np.e**(-z))\n",
    "    \n",
    "    cg = (1/len(x))*x.T.dot(fun(np.dot(x, th)) - y) + th*reg/len(X)\n",
    "    return cg"
   ]
  },
  {
   "cell_type": "markdown",
   "metadata": {},
   "source": [
    "### Clasificación de uno frente a todos"
   ]
  },
  {
   "cell_type": "code",
   "execution_count": 11,
   "metadata": {},
   "outputs": [],
   "source": [
    "import scipy.optimize as opt"
   ]
  },
  {
   "cell_type": "code",
   "execution_count": 27,
   "metadata": {},
   "outputs": [],
   "source": [
    "def oneVsAll(th, X, y, num_labels, reg):\n",
    "    th_ret = []\n",
    "    for i in range(1, num_labels + 1):\n",
    "        result  = opt.fmin_tnc(func=cost_function_opt, x0=th,\n",
    "                               fprime=cost_gradient_opt,\n",
    "                               args=(X, (y == i)*1, reg))\n",
    "        th_ret.append(result[0])\n",
    "    return th_ret "
   ]
  },
  {
   "cell_type": "code",
   "execution_count": 17,
   "metadata": {},
   "outputs": [],
   "source": [
    "th_zeros = np.zeros(len(X[0]))\n",
    "reg = 0.1"
   ]
  },
  {
   "cell_type": "code",
   "execution_count": 30,
   "metadata": {},
   "outputs": [
    {
     "name": "stdout",
     "output_type": "stream",
     "text": [
      "10 401\n"
     ]
    }
   ],
   "source": [
    "th_train = oneVsAll(th_zeros, X, np.ravel(y), len(np.unique(y)), reg)\n",
    "print(len(th_train), len(th_train[0]))"
   ]
  },
  {
   "cell_type": "code",
   "execution_count": 15,
   "metadata": {
    "scrolled": true
   },
   "outputs": [
    {
     "name": "stdout",
     "output_type": "stream",
     "text": [
      "Coste óptimo obtenido con scipy.optimize.fmin_tnc():\n",
      "\t[array([-20.11266776]), array([-18.46294437]), array([-18.45871036]), array([-18.46299993]), array([-18.49762069]), array([-18.46310356]), array([-18.47036638]), array([-17.7451094]), array([-18.43862188]), array([-17.75602453])]\n"
     ]
    }
   ],
   "source": [
    "print (\"Coste óptimo obtenido con scipy.optimize.fmin_tnc():\\n\\t{}\".\n",
    "       format([cost_function_opt(th_train[i], X, y, reg)\n",
    "               for i in range(0,len(th_train))]))"
   ]
  },
  {
   "cell_type": "markdown",
   "metadata": {},
   "source": [
    "## Evaluación de la regresión logística multiclase"
   ]
  },
  {
   "cell_type": "code",
   "execution_count": 31,
   "metadata": {},
   "outputs": [],
   "source": [
    "def model_evaluation(X, y, th, fun):\n",
    "    num_hits = 0\n",
    "    for index, x in enumerate(X):\n",
    "        probability_per_classifier = np.array([fun(th[i].dot(x.T)) \n",
    "                                               for i in range(0,len(th))])\n",
    "        best_probability_prediction_index = np.argmax(probability_per_classifier)\n",
    "        prediction = best_probability_prediction_index+1\n",
    "\n",
    "        if(prediction == y[index]):\n",
    "            num_hits += 1\n",
    "    return (num_hits/len(X))*100"
   ]
  },
  {
   "cell_type": "code",
   "execution_count": 32,
   "metadata": {
    "scrolled": true
   },
   "outputs": [
    {
     "name": "stdout",
     "output_type": "stream",
     "text": [
      "Porcentaje de aciertos sobre los casos de entrenamiento:96.5%\n"
     ]
    }
   ],
   "source": [
    "evaluation_result = model_evaluation(X, np.ravel(y), th_train, sigmoid_function)\n",
    "print(\"Porcentaje de aciertos sobre los casos de entrenamiento:{}%\".\n",
    "      format(evaluation_result))"
   ]
  },
  {
   "cell_type": "markdown",
   "metadata": {},
   "source": [
    "# Red neuronal pre-entrenada"
   ]
  },
  {
   "cell_type": "markdown",
   "metadata": {},
   "source": [
    "La red neuronal que tratamos en este ejercicio tiene tres capas estructuradas de la siguiente forma:\n",
    "- **400 unidades** en la primera capa (_input layer_)\n",
    "- **25 unidades** en la segunda capa (_hidden layer_)\n",
    "- **10 unidades** en la tercera capa (_output layer_)"
   ]
  },
  {
   "cell_type": "code",
   "execution_count": 18,
   "metadata": {},
   "outputs": [
    {
     "name": "stdout",
     "output_type": "stream",
     "text": [
      "theta_layer1.shape:(25, 401);\n",
      "theta_layer2.shape:(10, 26);\n"
     ]
    }
   ],
   "source": [
    "weights = loadmat('datasets/ex3weights.mat')\n",
    "theta_layer1, theta_layer2 = weights['Theta1'], weights['Theta2']\n",
    "print('theta_layer1.shape:{};\\ntheta_layer2.shape:{};'.\n",
    "      format(theta_layer1.shape, theta_layer2.shape))"
   ]
  },
  {
   "cell_type": "code",
   "execution_count": 19,
   "metadata": {},
   "outputs": [],
   "source": [
    "def model_evaluation_nn(X, y, th, fun):\n",
    "    num_hits = 0\n",
    "    for index, x in enumerate(X):\n",
    "        output_layer1 = np.array([fun(th[0][i].dot(x.T)) for i in range(0,len(th[0]))])\n",
    "        output_layer1 = np.insert(output_layer1, 0, 1)\n",
    "        output_layer2 = np.array([fun(th[1][i].dot(output_layer1)) for i in range(0,len(th[1]))])\n",
    "        \n",
    "        probability_per_classifier = output_layer2\n",
    "        best_probability_prediction_index = np.argmax(probability_per_classifier)\n",
    "        prediction = best_probability_prediction_index+1\n",
    "\n",
    "        if(prediction == y[index]):\n",
    "            num_hits += 1\n",
    "    return (num_hits/len(X))*100"
   ]
  },
  {
   "cell_type": "code",
   "execution_count": 20,
   "metadata": {},
   "outputs": [],
   "source": [
    "th_nn = [theta_layer1, theta_layer2] \n",
    "# generalizacion laxa del numero de capas utilizadas en la red neuronal"
   ]
  },
  {
   "cell_type": "code",
   "execution_count": 21,
   "metadata": {},
   "outputs": [
    {
     "name": "stdout",
     "output_type": "stream",
     "text": [
      "Porcentaje de aciertos sobre los casos de entrenamiento:97.52%\n"
     ]
    }
   ],
   "source": [
    "evaluation_result = model_evaluation_nn(X, y, th_nn, sigmoid_function)\n",
    "print(\"Porcentaje de aciertos sobre los casos de entrenamiento:{}%\".\n",
    "      format(evaluation_result))"
   ]
  }
 ],
 "metadata": {
  "kernelspec": {
   "display_name": "Python 3",
   "language": "python",
   "name": "python3"
  },
  "language_info": {
   "codemirror_mode": {
    "name": "ipython",
    "version": 3
   },
   "file_extension": ".py",
   "mimetype": "text/x-python",
   "name": "python",
   "nbconvert_exporter": "python",
   "pygments_lexer": "ipython3",
   "version": "3.6.5"
  }
 },
 "nbformat": 4,
 "nbformat_minor": 2
}
